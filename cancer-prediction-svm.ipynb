{
 "cells": [
  {
   "cell_type": "code",
   "execution_count": 2,
   "metadata": {},
   "outputs": [
    {
     "name": "stdout",
     "output_type": "stream",
     "text": [
      "['B']\n",
      "Accuracy of this model is :81.57894736842105 %\n"
     ]
    }
   ],
   "source": [
    "#importing all dependencies\n",
    "import numpy as np\n",
    "import pandas as pd\n",
    "from sklearn.model_selection import train_test_split     \n",
    "from sklearn.svm import SVC\n",
    "from sklearn.metrics import accuracy_score\n",
    "\n",
    "#reading data\n",
    "k=pd.read_csv('cancer-data.csv')\n",
    "data=pd.read_csv('cancer-data.csv',usecols=(2,5,6,7,8,11))\n",
    "labels=k['diagnosis']\n",
    "\n",
    "#splitting data into training and testing with training set 80% and test set 20%\n",
    "x_train,x_test,y_train,y_test=train_test_split(data,labels,test_size=0.2,random_state=4)\n",
    "\n",
    "#Support Vector Classifier model\n",
    "model=SVC()\n",
    "model.fit(x_train,y_train)\n",
    "\n",
    "#prediction\n",
    "prediction_whole=model.predict(x_test)\n",
    "prediction=model.predict([[13,519.8,0.1273,0.01932,0.1859,0.7389]])  \n",
    "print(prediction)\n",
    "#accuracy\n",
    "print(\"Accuracy of this model is :\"+str(accuracy_score(prediction_whole,y_test)*100)+\" %\")"
   ]
  },
  {
   "cell_type": "code",
   "execution_count": null,
   "metadata": {},
   "outputs": [],
   "source": []
  }
 ],
 "metadata": {
  "kernelspec": {
   "display_name": "Python 3",
   "language": "python",
   "name": "python3"
  },
  "language_info": {
   "codemirror_mode": {
    "name": "ipython",
    "version": 3
   },
   "file_extension": ".py",
   "mimetype": "text/x-python",
   "name": "python",
   "nbconvert_exporter": "python",
   "pygments_lexer": "ipython3",
   "version": "3.6.5"
  }
 },
 "nbformat": 4,
 "nbformat_minor": 2
}
